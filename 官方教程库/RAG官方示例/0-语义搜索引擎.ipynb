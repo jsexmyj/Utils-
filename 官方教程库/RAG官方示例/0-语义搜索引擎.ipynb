{
 "cells": [
  {
   "cell_type": "markdown",
   "id": "f7ea2215",
   "metadata": {},
   "source": [
    "[语义搜索引擎指南](https://python.langchain.com/docs/tutorials/retrievers/)\n",
    "介绍以下概念：\n",
    "1. Documents and document loaders（文档和文档加载器）;\n",
    "2. Text splitters 文本拆分器;\n",
    "3. Embeddings 嵌入;\n",
    "4. Vector stores and retrievers 向量存储和检索器。"
   ]
  },
  {
   "cell_type": "code",
   "execution_count": 23,
   "id": "c14bdacd",
   "metadata": {},
   "outputs": [],
   "source": [
    "# 用langSmith来记录链条内部的情况\n",
    "import getpass\n",
    "import os\n",
    "from dotenv import load_dotenv\n",
    "load_dotenv()\n",
    "\n",
    "os.environ[\"LANGSMITH_TRACING\"] = \"true\"\n",
    "os.environ[\"LANGSMITH_API_KEY\"] = os.getenv('SMITH_API')"
   ]
  },
  {
   "cell_type": "markdown",
   "id": "3470477e",
   "metadata": {},
   "source": [
    "### Document包括三个数据：\n",
    "- page_content：表示内容的字符串;\n",
    "- metadata：包含任意元数据的 dict;\n",
    "- id：（可选）文档的字符串标识符。"
   ]
  },
  {
   "cell_type": "code",
   "execution_count": 24,
   "id": "97871e38",
   "metadata": {},
   "outputs": [],
   "source": [
    "from langchain_core.documents import Document\n",
    "\n",
    "documents = [\n",
    "    Document(\n",
    "        page_content=\"Dogs are great companions, known for their loyalty and friendliness.\",\n",
    "        metadata={\"source\": \"mammal-pets-doc\"},\n",
    "    ),\n",
    "    Document(\n",
    "        page_content=\"Cats are independent pets that often enjoy their own space.\",\n",
    "        metadata={\"source\": \"mammal-pets-doc\"},\n",
    "    ),\n",
    "]"
   ]
  },
  {
   "cell_type": "code",
   "execution_count": 25,
   "id": "13debada",
   "metadata": {},
   "outputs": [
    {
     "name": "stdout",
     "output_type": "stream",
     "text": [
      "6\n",
      "{'producer': 'Adobe PDF Library 19.21.90', 'creator': 'Acrobat PDFMaker 19 Word 版', 'creationdate': '2024-11-15T16:13:31+08:00', 'author': 'LENOVO', 'comments': '', 'company': '', 'keywords': '', 'moddate': '2024-11-15T16:13:34+08:00', 'sourcemodified': 'D:20241115081232', 'subject': '', 'title': '', 'source': 'example_data\\\\附件4.pdf', 'total_pages': 6, 'page': 0, 'page_label': '1'}\n"
     ]
    },
    {
     "data": {
      "text/plain": [
       "'地 83 级校友新生奖学金评选办法 \\n地83 级校友专新生奖学金系我校地质工程专业83 级校友为庆贺我校120 周\\n年校庆，吸引优秀学生填报我校地质学科学习，助力地质学科发展而设立。为便\\n于该项奖金的'"
      ]
     },
     "execution_count": 25,
     "metadata": {},
     "output_type": "execute_result"
    }
   ],
   "source": [
    "from langchain_community.document_loaders import PyPDFLoader\n",
    "\n",
    "file_path = \"example_data\\附件4.pdf\"\n",
    "loader = PyPDFLoader(file_path)\n",
    "\n",
    "docs = loader.load()\n",
    "\n",
    "print(len(docs))\n",
    "print(docs[0].metadata)\n",
    "docs[0].page_content[:100]"
   ]
  },
  {
   "cell_type": "markdown",
   "id": "db6eb748",
   "metadata": {},
   "source": [
    "### Split Text"
   ]
  },
  {
   "cell_type": "code",
   "execution_count": 26,
   "id": "d366ab1b",
   "metadata": {},
   "outputs": [
    {
     "data": {
      "text/plain": [
       "(6,\n",
       " Document(metadata={'producer': 'Adobe PDF Library 19.21.90', 'creator': 'Acrobat PDFMaker 19 Word 版', 'creationdate': '2024-11-15T16:13:31+08:00', 'author': 'LENOVO', 'comments': '', 'company': '', 'keywords': '', 'moddate': '2024-11-15T16:13:34+08:00', 'sourcemodified': 'D:20241115081232', 'subject': '', 'title': '', 'source': 'example_data\\\\附件4.pdf', 'total_pages': 6, 'page': 0, 'page_label': '1', 'start_index': 0}, page_content='地 83 级校友新生奖学金评选办法 \\n地83 级校友专新生奖学金系我校地质工程专业83 级校友为庆贺我校120 周\\n年校庆，吸引优秀学生填报我校地质学科学习，助力地质学科发展而设立。为便\\n于该项奖金的管理，特制定本评选办法。 \\n一、奖励对象 \\n西南交通大学地学学院全日制在读地质专业本科生及硕士研究生新生。 \\n二、奖励人数及金额 \\n每学年共设 5 个名额（研究生 2 名，本科生 3 名 ），3000 元/人 \\n三、评选条件 \\n（一）基本条件 \\n1.本科新生奖：第一志愿填报西南交通大学地球科学与工程学院地质类专业，\\n且高考分数超本省一本分数线前 3 位。 \\n2.硕士研究生新生奖：第一志愿填报西南交通大学地质类专业的西南交通大\\n学地质工程专业本科生，保研综合成绩第 1 名；考研录取综合成绩第 1 名。 \\n四、评定程序 \\n1.学生本人提出申请，地 83 级校友奖学金组委会评定； \\n2.评审程序按《西南交通大学专项奖学金评选程序》进行。'))"
      ]
     },
     "execution_count": 26,
     "metadata": {},
     "output_type": "execute_result"
    }
   ],
   "source": [
    "from langchain_text_splitters import RecursiveCharacterTextSplitter\n",
    "# 拆分为1000个字符的块  包含200个字符重叠\n",
    "text_splitter = RecursiveCharacterTextSplitter(\n",
    "    chunk_size=1000, chunk_overlap=200, add_start_index=True\n",
    ")\n",
    "# 这是一个Document\n",
    "all_splits = text_splitter.split_documents(docs)\n",
    "\n",
    "len(all_splits),all_splits[0]"
   ]
  },
  {
   "cell_type": "markdown",
   "id": "933f834a",
   "metadata": {},
   "source": [
    "### Embedding 看py脚本"
   ]
  },
  {
   "cell_type": "code",
   "execution_count": 27,
   "id": "c699d5f9",
   "metadata": {},
   "outputs": [
    {
     "name": "stdout",
     "output_type": "stream",
     "text": [
      "生成向量长度：3072\n",
      "\n",
      "[0.0010416125878691673, -0.013004467822611332, -0.006021607201546431, 0.01279629860073328, 0.008841078728437424, -0.025078294798731804, -0.02059653028845787, 0.03151930123567581, 0.008155344054102898, 0.004105223808437586]\n"
     ]
    }
   ],
   "source": [
    "from langchain_openai import OpenAIEmbeddings\n",
    "import openai\n",
    "api_key = os.getenv(\"OPENAI_API_KEY \")\n",
    "base_url = os.getenv(\"OPENAI_API_BASE\")\n",
    "    \n",
    "# 使用 openai v1 SDK 创建 client（必须使用 openai>=1.0.0）\n",
    "embeddings = OpenAIEmbeddings(\n",
    "    model=\"text-embedding-3-large\",\n",
    "    api_key=api_key,\n",
    "    base_url=base_url\n",
    ")\n",
    "vector_1 = embeddings.embed_query(all_splits[0].page_content)\n",
    "vector_2 = embeddings.embed_query(all_splits[1].page_content)\n",
    "\n",
    "assert len(vector_1) == len(vector_2)\n",
    "print(f\"生成向量长度：{len(vector_1)}\\n\")\n",
    "print(vector_1[:10])"
   ]
  },
  {
   "cell_type": "markdown",
   "id": "27c6f4ad",
   "metadata": {},
   "source": [
    "### 矢量存储\n",
    "LangChain VectorStore 对象包含用于将文本和对象添加到存储区以及**使用各种相似性指标查询**它们的方法。"
   ]
  },
  {
   "cell_type": "code",
   "execution_count": null,
   "id": "8667cf39",
   "metadata": {},
   "outputs": [
    {
     "data": {
      "text/plain": [
       "['84f80b17-ca16-419d-ab0e-43111f2af85e',\n",
       " '4794f19b-b7c0-4bf1-8180-d47b16fe4e9a',\n",
       " 'a6a4ca3d-a93e-4ce8-af1a-e7756aaeb2cc',\n",
       " 'fe4e30c0-5c73-4c8d-afca-acc728929eb2',\n",
       " 'c0d917a1-5fac-41fd-8824-3df0830e9dc6',\n",
       " 'c4362a29-8373-4e97-81b1-4636cd28fe41']"
      ]
     },
     "execution_count": 30,
     "metadata": {},
     "output_type": "execute_result"
    }
   ],
   "source": [
    "from langchain_core.vectorstores import InMemoryVectorStore\n",
    "\n",
    "vector_store = InMemoryVectorStore(embeddings)  #实例化\n",
    "ids = vector_store.add_documents(documents=all_splits)\n",
    "ids"
   ]
  },
  {
   "cell_type": "code",
   "execution_count": null,
   "id": "3f44fcd1",
   "metadata": {},
   "outputs": [
    {
     "data": {
      "text/plain": [
       "'选。 \\n4、学校专项奖学金评审委员会对获奖者进行复审并公示，向获奖学生颁发\\n证书。'"
      ]
     },
     "execution_count": 37,
     "metadata": {},
     "output_type": "execute_result"
    }
   ],
   "source": [
    "# 与字符串查询的相似性返回文档\n",
    "results = vector_store.similarity_search(\n",
    "    \"一等奖有多少人?\"\n",
    ")\n",
    "results[0].page_content"
   ]
  },
  {
   "cell_type": "code",
   "execution_count": 39,
   "id": "c7ef074c",
   "metadata": {},
   "outputs": [
    {
     "data": {
      "text/plain": [
       "(Document(id='4794f19b-b7c0-4bf1-8180-d47b16fe4e9a', metadata={'producer': 'Adobe PDF Library 19.21.90', 'creator': 'Acrobat PDFMaker 19 Word 版', 'creationdate': '2024-11-15T16:13:31+08:00', 'author': 'LENOVO', 'comments': '', 'company': '', 'keywords': '', 'moddate': '2024-11-15T16:13:34+08:00', 'sourcemodified': 'D:20241115081232', 'subject': '', 'title': '', 'source': 'example_data\\\\附件4.pdf', 'total_pages': 6, 'page': 1, 'page_label': '2', 'start_index': 0}, page_content='“铁发奖学金”评定办法 \\n“铁发奖学金”系四川西南交大铁路发展股份有限公司为鼓励测绘学科学\\n生热爱专业、勤奋学习、刻苦钻研、积极参与科研实验、努力成才、为祖国测绘\\n事业贡献力量，而设的专项奖学金，从二〇二〇年九月开始实行。 \\n一、评奖范围 \\n西南交通大学地球科学与工程学院测绘工程、遥感、地信专业在校本科生及\\n全日制硕士研究生。 \\n二、奖励人数及金额 \\n西南交通大学“铁发奖学金”每学年共设6 个名额，发放奖学金总额28000\\n元。 \\n本科生共 2 名（大三、大四各 1 名 ），3000 元/人。 \\n硕士研究生共 2 名（研二、研三各 1 名 ），5000 元/人。 \\n博士研究生共 2 名，6000 元/人。 \\n三、评奖条件 \\n1、热爱祖国、道德品质优良、遵守校规校纪和社会公德，无不良道德及违\\n规记录。 \\n2、学习勤奋刻苦、成绩优秀，参评学年无重修或补考； \\n3、热爱所学专业，参评学年成绩位列本专业前 40%； \\n4、参加科技活动及竞赛、在各类刊物发表文章及参与科研活动，具有良好\\n的科研能力并取得一定的研究成果者优先考虑。 \\n5、积极参加社团或社会志愿活动，具有活动组织经历或在活动组织中起到\\n沟通协调等关键作用者优先考虑。 \\n四、评定程序 \\n1、达到奖学金评定条件的地球科学与工程学院测绘相关学科学生本人向学\\n院学生工作组提出书面申请并提供相关的证明材料； \\n2、学生工作组负责汇总审核申请者材料，报送“铁发奖学金”评委会，由\\n评委会确定参加答辩面试人选名单； \\n3、由四川西南交大铁路发展股份有限公司代表及测绘遥感信息系老师代表\\n组成答辩评审会，面试候选人选，评审出拟获评学生，公示无异议后确定获奖人'),\n",
       " 0.5886665798003262)"
      ]
     },
     "execution_count": 39,
     "metadata": {},
     "output_type": "execute_result"
    }
   ],
   "source": [
    "# 返回相似性查询分数\n",
    "results = vector_store.similarity_search_with_score(\"铁发奖学金有多少名额?\")\n",
    "doc, score = results[0]\n",
    "doc, score"
   ]
  },
  {
   "cell_type": "code",
   "execution_count": 41,
   "id": "bf4d52ce",
   "metadata": {},
   "outputs": [
    {
     "data": {
      "text/plain": [
       "'选。 \\n4、学校专项奖学金评审委员会对获奖者进行复审并公示，向获奖学生颁发\\n证书。'"
      ]
     },
     "execution_count": 41,
     "metadata": {},
     "output_type": "execute_result"
    }
   ],
   "source": [
    "# 与嵌入式查询的相似性返回文档\n",
    "embedding = embeddings.embed_query(\"一等奖有多少人?\")\n",
    "results = vector_store.similarity_search_by_vector(embedding)\n",
    "results[0].page_content"
   ]
  },
  {
   "cell_type": "markdown",
   "id": "aa0a16e6",
   "metadata": {},
   "source": [
    "## Retrievers"
   ]
  },
  {
   "cell_type": "code",
   "execution_count": null,
   "id": "50725a97",
   "metadata": {},
   "outputs": [
    {
     "data": {
      "text/plain": [
       "[[Document(id='a6a4ca3d-a93e-4ce8-af1a-e7756aaeb2cc', metadata={'producer': 'Adobe PDF Library 19.21.90', 'creator': 'Acrobat PDFMaker 19 Word 版', 'creationdate': '2024-11-15T16:13:31+08:00', 'author': 'LENOVO', 'comments': '', 'company': '', 'keywords': '', 'moddate': '2024-11-15T16:13:34+08:00', 'sourcemodified': 'D:20241115081232', 'subject': '', 'title': '', 'source': 'example_data\\\\附件4.pdf', 'total_pages': 6, 'page': 2, 'page_label': '3', 'start_index': 0}, page_content='选。 \\n4、学校专项奖学金评审委员会对获奖者进行复审并公示，向获奖学生颁发\\n证书。')],\n",
       " [Document(id='4794f19b-b7c0-4bf1-8180-d47b16fe4e9a', metadata={'producer': 'Adobe PDF Library 19.21.90', 'creator': 'Acrobat PDFMaker 19 Word 版', 'creationdate': '2024-11-15T16:13:31+08:00', 'author': 'LENOVO', 'comments': '', 'company': '', 'keywords': '', 'moddate': '2024-11-15T16:13:34+08:00', 'sourcemodified': 'D:20241115081232', 'subject': '', 'title': '', 'source': 'example_data\\\\附件4.pdf', 'total_pages': 6, 'page': 1, 'page_label': '2', 'start_index': 0}, page_content='“铁发奖学金”评定办法 \\n“铁发奖学金”系四川西南交大铁路发展股份有限公司为鼓励测绘学科学\\n生热爱专业、勤奋学习、刻苦钻研、积极参与科研实验、努力成才、为祖国测绘\\n事业贡献力量，而设的专项奖学金，从二〇二〇年九月开始实行。 \\n一、评奖范围 \\n西南交通大学地球科学与工程学院测绘工程、遥感、地信专业在校本科生及\\n全日制硕士研究生。 \\n二、奖励人数及金额 \\n西南交通大学“铁发奖学金”每学年共设6 个名额，发放奖学金总额28000\\n元。 \\n本科生共 2 名（大三、大四各 1 名 ），3000 元/人。 \\n硕士研究生共 2 名（研二、研三各 1 名 ），5000 元/人。 \\n博士研究生共 2 名，6000 元/人。 \\n三、评奖条件 \\n1、热爱祖国、道德品质优良、遵守校规校纪和社会公德，无不良道德及违\\n规记录。 \\n2、学习勤奋刻苦、成绩优秀，参评学年无重修或补考； \\n3、热爱所学专业，参评学年成绩位列本专业前 40%； \\n4、参加科技活动及竞赛、在各类刊物发表文章及参与科研活动，具有良好\\n的科研能力并取得一定的研究成果者优先考虑。 \\n5、积极参加社团或社会志愿活动，具有活动组织经历或在活动组织中起到\\n沟通协调等关键作用者优先考虑。 \\n四、评定程序 \\n1、达到奖学金评定条件的地球科学与工程学院测绘相关学科学生本人向学\\n院学生工作组提出书面申请并提供相关的证明材料； \\n2、学生工作组负责汇总审核申请者材料，报送“铁发奖学金”评委会，由\\n评委会确定参加答辩面试人选名单； \\n3、由四川西南交大铁路发展股份有限公司代表及测绘遥感信息系老师代表\\n组成答辩评审会，面试候选人选，评审出拟获评学生，公示无异议后确定获奖人')]]"
      ]
     },
     "execution_count": 43,
     "metadata": {},
     "output_type": "execute_result"
    }
   ],
   "source": [
    "from typing import List\n",
    "\n",
    "from langchain_core.documents import Document\n",
    "from langchain_core.runnables import chain\n",
    "\n",
    "# 装饰器构建函数式链条\n",
    "@chain\n",
    "def retriever(query: str) -> List[Document]:\n",
    "    return vector_store.similarity_search(query, k=1)\n",
    "\n",
    "# 批量查询\n",
    "# 使用 .batch([...]) 实现多个查询的批量处理。\n",
    "retriever.batch(\n",
    "    [\n",
    "        \"一等奖有多少人?\",\n",
    "        \"铁发奖学金有多少名额?\",\n",
    "    ],\n",
    ")"
   ]
  },
  {
   "cell_type": "code",
   "execution_count": null,
   "id": "0381bdcf",
   "metadata": {},
   "outputs": [
    {
     "data": {
      "text/plain": [
       "[[Document(id='a6a4ca3d-a93e-4ce8-af1a-e7756aaeb2cc', metadata={'producer': 'Adobe PDF Library 19.21.90', 'creator': 'Acrobat PDFMaker 19 Word 版', 'creationdate': '2024-11-15T16:13:31+08:00', 'author': 'LENOVO', 'comments': '', 'company': '', 'keywords': '', 'moddate': '2024-11-15T16:13:34+08:00', 'sourcemodified': 'D:20241115081232', 'subject': '', 'title': '', 'source': 'example_data\\\\附件4.pdf', 'total_pages': 6, 'page': 2, 'page_label': '3', 'start_index': 0}, page_content='选。 \\n4、学校专项奖学金评审委员会对获奖者进行复审并公示，向获奖学生颁发\\n证书。')],\n",
       " [Document(id='4794f19b-b7c0-4bf1-8180-d47b16fe4e9a', metadata={'producer': 'Adobe PDF Library 19.21.90', 'creator': 'Acrobat PDFMaker 19 Word 版', 'creationdate': '2024-11-15T16:13:31+08:00', 'author': 'LENOVO', 'comments': '', 'company': '', 'keywords': '', 'moddate': '2024-11-15T16:13:34+08:00', 'sourcemodified': 'D:20241115081232', 'subject': '', 'title': '', 'source': 'example_data\\\\附件4.pdf', 'total_pages': 6, 'page': 1, 'page_label': '2', 'start_index': 0}, page_content='“铁发奖学金”评定办法 \\n“铁发奖学金”系四川西南交大铁路发展股份有限公司为鼓励测绘学科学\\n生热爱专业、勤奋学习、刻苦钻研、积极参与科研实验、努力成才、为祖国测绘\\n事业贡献力量，而设的专项奖学金，从二〇二〇年九月开始实行。 \\n一、评奖范围 \\n西南交通大学地球科学与工程学院测绘工程、遥感、地信专业在校本科生及\\n全日制硕士研究生。 \\n二、奖励人数及金额 \\n西南交通大学“铁发奖学金”每学年共设6 个名额，发放奖学金总额28000\\n元。 \\n本科生共 2 名（大三、大四各 1 名 ），3000 元/人。 \\n硕士研究生共 2 名（研二、研三各 1 名 ），5000 元/人。 \\n博士研究生共 2 名，6000 元/人。 \\n三、评奖条件 \\n1、热爱祖国、道德品质优良、遵守校规校纪和社会公德，无不良道德及违\\n规记录。 \\n2、学习勤奋刻苦、成绩优秀，参评学年无重修或补考； \\n3、热爱所学专业，参评学年成绩位列本专业前 40%； \\n4、参加科技活动及竞赛、在各类刊物发表文章及参与科研活动，具有良好\\n的科研能力并取得一定的研究成果者优先考虑。 \\n5、积极参加社团或社会志愿活动，具有活动组织经历或在活动组织中起到\\n沟通协调等关键作用者优先考虑。 \\n四、评定程序 \\n1、达到奖学金评定条件的地球科学与工程学院测绘相关学科学生本人向学\\n院学生工作组提出书面申请并提供相关的证明材料； \\n2、学生工作组负责汇总审核申请者材料，报送“铁发奖学金”评委会，由\\n评委会确定参加答辩面试人选名单； \\n3、由四川西南交大铁路发展股份有限公司代表及测绘遥感信息系老师代表\\n组成答辩评审会，面试候选人选，评审出拟获评学生，公示无异议后确定获奖人')]]"
      ]
     },
     "execution_count": 44,
     "metadata": {},
     "output_type": "execute_result"
    }
   ],
   "source": [
    "# 面向对象风格，不建议\n",
    "retriever = vector_store.as_retriever(\n",
    "    search_type=\"similarity\",\n",
    "    search_kwargs={\"k\": 1},\n",
    ")\n",
    "retriever.batch(\n",
    "    [\n",
    "        \"一等奖有多少人?\",\n",
    "        \"铁发奖学金有多少名额?\",\n",
    "    ],\n",
    ")"
   ]
  }
 ],
 "metadata": {
  "kernelspec": {
   "display_name": "AutoSite",
   "language": "python",
   "name": "python3"
  },
  "language_info": {
   "codemirror_mode": {
    "name": "ipython",
    "version": 3
   },
   "file_extension": ".py",
   "mimetype": "text/x-python",
   "name": "python",
   "nbconvert_exporter": "python",
   "pygments_lexer": "ipython3",
   "version": "3.10.16"
  }
 },
 "nbformat": 4,
 "nbformat_minor": 5
}

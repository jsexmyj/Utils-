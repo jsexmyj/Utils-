{
 "cells": [
  {
   "cell_type": "code",
   "execution_count": 1,
   "id": "aa98f2ae",
   "metadata": {},
   "outputs": [
    {
     "data": {
      "text/plain": [
       "<langgraph.graph.state.StateGraph at 0x1655bcbbd90>"
      ]
     },
     "execution_count": 1,
     "metadata": {},
     "output_type": "execute_result"
    }
   ],
   "source": [
    "from typing import Annotated\n",
    "from typing_extensions import TypedDict\n",
    "from langgraph.graph.message import add_messages\n",
    "from langgraph.graph import StateGraph, START, END\n",
    "class State(TypedDict):\n",
    "    messages:Annotated[list,add_messages]\n",
    "\n",
    "gragh_builder = StateGraph(State)\n",
    "gragh_builder"
   ]
  },
  {
   "cell_type": "code",
   "execution_count": 1,
   "id": "4e11828a",
   "metadata": {},
   "outputs": [
    {
     "name": "stdout",
     "output_type": "stream",
     "text": [
      "ECHO: What's a 'node' in LangGraph?\n"
     ]
    },
    {
     "data": {
      "text/plain": [
       "[StructuredTool(name='echo', description='简单回声工具：返回原始输入内容。', args_schema=<class 'langchain_core.utils.pydantic.echo'>, func=<function echo_tool at 0x000001A5C5241FC0>)]"
      ]
     },
     "execution_count": 1,
     "metadata": {},
     "output_type": "execute_result"
    }
   ],
   "source": [
    "from toolBot import BasicToolNode, echo_tool\n",
    "tool = [echo_tool]\n",
    "tool"
   ]
  }
 ],
 "metadata": {
  "kernelspec": {
   "display_name": "AutoSite",
   "language": "python",
   "name": "python3"
  },
  "language_info": {
   "codemirror_mode": {
    "name": "ipython",
    "version": 3
   },
   "file_extension": ".py",
   "mimetype": "text/x-python",
   "name": "python",
   "nbconvert_exporter": "python",
   "pygments_lexer": "ipython3",
   "version": "3.10.16"
  }
 },
 "nbformat": 4,
 "nbformat_minor": 5
}
